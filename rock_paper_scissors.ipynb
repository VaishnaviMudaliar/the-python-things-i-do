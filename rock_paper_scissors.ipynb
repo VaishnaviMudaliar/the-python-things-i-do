{
  "nbformat": 4,
  "nbformat_minor": 0,
  "metadata": {
    "colab": {
      "provenance": [],
      "authorship_tag": "ABX9TyOI18p66Uw5/7T0i+NtSVse",
      "include_colab_link": true
    },
    "kernelspec": {
      "name": "python3",
      "display_name": "Python 3"
    },
    "language_info": {
      "name": "python"
    }
  },
  "cells": [
    {
      "cell_type": "markdown",
      "metadata": {
        "id": "view-in-github",
        "colab_type": "text"
      },
      "source": [
        "<a href=\"https://colab.research.google.com/github/VaishnaviMudaliar/the-python-things-i-do/blob/main/rock_paper_scissors.ipynb\" target=\"_parent\"><img src=\"https://colab.research.google.com/assets/colab-badge.svg\" alt=\"Open In Colab\"/></a>"
      ]
    },
    {
      "cell_type": "code",
      "execution_count": 3,
      "metadata": {
        "colab": {
          "base_uri": "https://localhost:8080/"
        },
        "id": "T1aEhVkUYb1K",
        "outputId": "6e9c0eb4-4da4-43d9-b4ed-728da2d927dc"
      },
      "outputs": [
        {
          "name": "stdout",
          "output_type": "stream",
          "text": [
            "Enter a choice(rock,paper,scissors) : rock\n",
            "\n",
            " you chose rock , computer chose ['paper']\n",
            "Paper covers rock! You lose\n",
            "Play again? (y/n): y\n",
            "Enter a choice(rock,paper,scissors) : paper\n",
            "\n",
            " you chose paper , computer chose ['rock']\n",
            "Scissors cut paper! You lose!\n",
            "Play again? (y/n): n\n"
          ]
        }
      ],
      "source": [
        "import random\n",
        "\n",
        "while True:\n",
        "  user_action = input(\"Enter a choice(rock,paper,scissors) : \")\n",
        "  possible_actions = [\"rock\",\"paper\",\"scissors\"]\n",
        "  computer_action = random.choices(possible_actions)\n",
        "  print(f\"\\n you chose {user_action} , computer chose {computer_action}\")\n",
        "  if user_action == computer_action:\n",
        "     print(f\"Both players sselected {user_action}. It's a tie!\")\n",
        "  elif user_action == \"rock\":\n",
        "    if computer_action == \"scissors\":\n",
        "       print(\"Rock smashes scissors! You win\")\n",
        "    else:\n",
        "      print(\"Paper covers rock! You lose\")\n",
        "  elif user_action == \"paper\":\n",
        "     if computer_action == \"rock\":\n",
        "        print(\"Paper covers rock! You lose\")\n",
        "     else:\n",
        "        print(\"Scissors cut paper! You lose!\")\n",
        "  elif user_action == \"scissors\":\n",
        "    if computer_action == \"paper\":\n",
        "      print(\"Scissors cuts paper! You win\")\n",
        "    else:\n",
        "      print(\"Rock smashes scissors! You loose\")\n",
        "  play_again = input(\"Play again? (y/n): \")\n",
        "  if play_again.lower() != \"y\":\n",
        "     break\n",
        "  \n",
        "\n",
        "\n",
        "\n",
        "\n",
        "\n"
      ]
    }
  ]
}