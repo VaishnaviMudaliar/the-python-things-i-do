{
  "nbformat": 4,
  "nbformat_minor": 0,
  "metadata": {
    "colab": {
      "provenance": [],
      "authorship_tag": "ABX9TyP7gqoAWWgVn8MioZT/C2cK",
      "include_colab_link": true
    },
    "kernelspec": {
      "name": "python3",
      "display_name": "Python 3"
    },
    "language_info": {
      "name": "python"
    }
  },
  "cells": [
    {
      "cell_type": "markdown",
      "metadata": {
        "id": "view-in-github",
        "colab_type": "text"
      },
      "source": [
        "<a href=\"https://colab.research.google.com/github/VaishnaviMudaliar/the-python-things-i-do/blob/main/DFS_using_python.ipynb\" target=\"_parent\"><img src=\"https://colab.research.google.com/assets/colab-badge.svg\" alt=\"Open In Colab\"/></a>"
      ]
    },
    {
      "cell_type": "code",
      "execution_count": 1,
      "metadata": {
        "colab": {
          "base_uri": "https://localhost:8080/"
        },
        "id": "2GKTnhWxi--d",
        "outputId": "b1cabde2-b6c1-4b3b-a8fe-20caafe83394"
      },
      "outputs": [
        {
          "output_type": "stream",
          "name": "stdout",
          "text": [
            "A\n",
            "B\n",
            "D\n",
            "E\n",
            "F\n",
            "C\n"
          ]
        }
      ],
      "source": [
        "graph = {\n",
        "    'A':['B','C'],\n",
        "    'B':['D','E'],\n",
        "    'C':['F'],\n",
        "    'D':[],\n",
        "    'E':['F'],\n",
        "    'F':[]\n",
        "}\n",
        "\n",
        "visited = set()\n",
        "\n",
        "def dfs(visited,graph,node):\n",
        " if node not in visited:\n",
        "   print(node) \n",
        "   visited.add(node)\n",
        "   for neighbour in graph[node]:\n",
        "     dfs(visited,graph,neighbour)\n",
        "\n",
        "dfs(visited,graph,'A')"
      ]
    }
  ]
}